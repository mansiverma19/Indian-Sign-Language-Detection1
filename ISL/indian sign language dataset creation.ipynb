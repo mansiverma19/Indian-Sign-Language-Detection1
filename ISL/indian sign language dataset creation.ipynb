{
 "cells": [
  {
   "cell_type": "code",
   "execution_count": 1,
   "id": "a3fa6c6d",
   "metadata": {},
   "outputs": [],
   "source": [
    "import cv2\n",
    "import uuid\n",
    "import os\n",
    "import time"
   ]
  },
  {
   "cell_type": "code",
   "execution_count": 2,
   "id": "ef89a4ab",
   "metadata": {},
   "outputs": [],
   "source": [
    "import tensorflow"
   ]
  },
  {
   "cell_type": "markdown",
   "id": "67afdd78",
   "metadata": {},
   "source": [
    "# Labels"
   ]
  },
  {
   "cell_type": "code",
   "execution_count": 3,
   "id": "334e941e",
   "metadata": {},
   "outputs": [],
   "source": [
    "labels = ['1', '2', '3', '4','5', '6', '7', '8','9','A', 'B', 'C', 'D','E', 'F', 'G', 'H','I', 'J', 'K', 'L','M', 'N', 'O', 'P','Q','R', 'S', 'T', 'U','V', 'W', 'X', 'Y', 'Z']\n",
    "# labels = ['1', '2', '3', '4']"
   ]
  },
  {
   "cell_type": "markdown",
   "id": "8d59a595",
   "metadata": {},
   "source": [
    "# Folder path"
   ]
  },
  {
   "cell_type": "code",
   "execution_count": 4,
   "id": "8ebe230f",
   "metadata": {},
   "outputs": [],
   "source": [
    "root_path=os.path.join('ISL','workspace')\n",
    "video_path=os.path.join(root_path,'video')\n",
    "img_path=os.path.join(root_path,'image','collected_img')\n",
    "aug_img_path=os.path.join(root_path,'image','augmented_img')\n",
    "train_path=os.path.join(root_path,'train')\n",
    "test_path=os.path.join(root_path,'test')\n",
    "validate_path=os.path.join(root_path,'validate')\n",
    "model_path=train=os.path.join(root_path,'model')"
   ]
  },
  {
   "cell_type": "code",
   "execution_count": 5,
   "id": "8883e7d3",
   "metadata": {},
   "outputs": [],
   "source": [
    "if not os.path.exists(root_path):\n",
    "    if os.name == 'posix':\n",
    "        !mkdir -p {root_path}\n",
    "    if os.name == 'nt':\n",
    "        !mkdir {root_path}\n",
    "        \n",
    "if not os.path.exists(img_path):\n",
    "    if os.name == 'posix':\n",
    "        !mkdir -p {img_path}\n",
    "    if os.name == 'nt':\n",
    "        !mkdir {img_path}"
   ]
  },
  {
   "cell_type": "code",
   "execution_count": 7,
   "id": "58d9736c",
   "metadata": {},
   "outputs": [],
   "source": [
    "for label in labels:\n",
    "    l_path = os.path.join(video_path, label)\n",
    "    if not os.path.exists(l_path):\n",
    "        !mkdir {l_path}"
   ]
  },
  {
   "cell_type": "markdown",
   "id": "50ae11be",
   "metadata": {},
   "source": [
    "# Video capture"
   ]
  },
  {
   "cell_type": "code",
   "execution_count": 9,
   "id": "cce43fc5",
   "metadata": {},
   "outputs": [
    {
     "name": "stdout",
     "output_type": "stream",
     "text": [
      "Video for label T\n",
      "start now....\n",
      "Video for label W\n",
      "start now....\n"
     ]
    }
   ],
   "source": [
    "from cv2 import VideoWriter_fourcc\n",
    "\n",
    "# Define the duration in seconds of the video capture here\n",
    "capture_duration = 10\n",
    "name=\"M_front\"\n",
    "\n",
    "for label in labels:\n",
    "    print(\"Video for label {}\".format(label))\n",
    "    time.sleep(15)\n",
    "    print(\"start now....\")\n",
    "    webcam = cv2.VideoCapture(0)\n",
    "    file_path=os.path.join(video_path,label,label+\"-\"+name+'.{}.avi'.format(str(uuid.uuid1())))\n",
    "    video = cv2.VideoWriter(file_path,VideoWriter_fourcc(*'XVID'), 20.0, (640,480))\n",
    "\n",
    "    start_time = time.time()\n",
    "    while( int(time.time() - start_time) < capture_duration ):\n",
    "        ret, frame = webcam.read()\n",
    "        if ret==True:\n",
    "            cv2.imshow('WEBCAM',frame)\n",
    "            video.write(frame)\n",
    "            #if cv2.waitKey(1) & 0xFF == ord('q'):\n",
    "            #    break\n",
    "        else:\n",
    "            break\n",
    "\n",
    "# Release everything if job is finished\n",
    "webcam.release()\n",
    "video.release()\n",
    "cv2.destroyAllWindows()"
   ]
  },
  {
   "cell_type": "code",
   "execution_count": 15,
   "id": "653f4a3f",
   "metadata": {},
   "outputs": [],
   "source": [
    "for label in labels:\n",
    "    l_path = os.path.join(img_path, label)\n",
    "    if not os.path.exists(l_path):\n",
    "        !mkdir {l_path}"
   ]
  },
  {
   "cell_type": "code",
   "execution_count": 16,
   "id": "214b00ff",
   "metadata": {},
   "outputs": [],
   "source": [
    "for label in labels:\n",
    "    l_path = os.path.join(aug_img_path, label)\n",
    "    if not os.path.exists(l_path):\n",
    "        !mkdir {l_path}"
   ]
  },
  {
   "cell_type": "markdown",
   "id": "9b6353d4",
   "metadata": {},
   "source": [
    "# Image capture"
   ]
  },
  {
   "cell_type": "code",
   "execution_count": null,
   "id": "3e4717aa",
   "metadata": {},
   "outputs": [],
   "source": [
    "for label in labels:\n",
    "    # path of each video and image folder\n",
    "    label_video_path=os.path.join(video_path,label)\n",
    "    label_img_path=os.path.join(img_path,label)\n",
    "    \n",
    "    # getting name of each file in that directory \n",
    "    for filename in os.listdir(label_video_path):\n",
    "        # image name\n",
    "        img_root_name=str(filename).replace(\".avi\",\"\")\n",
    "        # path of the video file\n",
    "        file_path = os.path.join(label_video_path, filename)\n",
    "        webcam = cv2.VideoCapture(file_path)\n",
    "        currentframe = 0\n",
    "        \n",
    "        while(True):\n",
    "            # reading from frame\n",
    "            ret,frame = webcam.read()\n",
    "            if ret:\n",
    "                # if video is still left continue creating images\n",
    "                name = img_root_name + str(currentframe) + '.jpg'\n",
    "                print ('Creating...' + name)\n",
    "                \n",
    "                # writing the extracted images\n",
    "                cv2.imwrite(os.path.join(label_img_path,name), frame)\n",
    "                # show how many frames are created\n",
    "                currentframe += 1\n",
    "            else:\n",
    "                break\n",
    "webcam.release()\n",
    "cv2.destroyAllWindows()"
   ]
  },
  {
   "cell_type": "code",
   "execution_count": null,
   "id": "cfade2f2",
   "metadata": {},
   "outputs": [],
   "source": [
    "# for label in labels:\n",
    "#     label_img_path=os.path.join(train_path)\n",
    "#     lst=list(os.listdir(label_img_path))\n",
    "#     for i in range(0,len(lst),3):\n",
    "#         try: \n",
    "#             os.remove(os.path.join(label_img_path,lst[i]))\n",
    "#         except: \n",
    "#             print(\"error\")\n",
    "#             pass"
   ]
  },
  {
   "cell_type": "markdown",
   "id": "8e6b4a24",
   "metadata": {},
   "source": [
    "# Dataset augmentation"
   ]
  },
  {
   "cell_type": "code",
   "execution_count": null,
   "id": "bcf399e9",
   "metadata": {},
   "outputs": [],
   "source": [
    "# !pip install imgaug"
   ]
  },
  {
   "cell_type": "code",
   "execution_count": 17,
   "id": "f3209f9a",
   "metadata": {},
   "outputs": [],
   "source": [
    "import imgaug.augmenters as iaa"
   ]
  },
  {
   "cell_type": "code",
   "execution_count": 18,
   "id": "d580ef2b",
   "metadata": {},
   "outputs": [],
   "source": [
    "aug_lst=[iaa.Fliplr(1),iaa.GaussianBlur(sigma=(0, 1)),iaa.LinearContrast((0.75, 1.5)),\n",
    "     iaa.Multiply((0.8, 1.2), per_channel=1), iaa.Flipud(1),iaa.Sharpen(alpha=(0, 1.0),lightness=(0.75, 1.5)),\n",
    "     iaa.Invert(1, per_channel=True),iaa.Crop(px=(0, 10))]"
   ]
  },
  {
   "cell_type": "code",
   "execution_count": 19,
   "id": "27df976d",
   "metadata": {},
   "outputs": [
    {
     "name": "stdout",
     "output_type": "stream",
     "text": [
      "category :  Fliplr(name=UnnamedFliplr, parameters=[Deterministic(int 1)], deterministic=False)\n"
     ]
    },
    {
     "name": "stderr",
     "output_type": "stream",
     "text": [
      "S:\\object detection\\TFODCourse\\tfod\\lib\\site-packages\\imgaug\\augmenters\\base.py:27: SuspiciousMultiImageShapeWarning: You provided a numpy array of shape (480, 640, 3) as a multi-image augmentation input, which was interpreted as (N, H, W). The last dimension however has value 1 or 3, which indicates that you provided a single image with shape (H, W, C) instead. If that is the case, you should use e.g. augmenter(image=<your input>) or augment_image(<your input>) -- note the singular 'image' instead of 'imageS'. Otherwise your single input image will be interpreted as multiple images of shape (H, W) during augmentation.\n",
      "  ia.warn(\n"
     ]
    },
    {
     "name": "stdout",
     "output_type": "stream",
     "text": [
      "category :  GaussianBlur(name=UnnamedGaussianBlur, parameters=[Uniform(Deterministic(int 0), Deterministic(int 1))], deterministic=False)\n",
      "category :  LinearContrast(name=UnnamedLinearContrast, parameters=[Uniform(Deterministic(float 0.75000000), Deterministic(float 1.50000000))], deterministic=False)\n",
      "category :  Multiply(name=UnnamedMultiply, parameters=[Uniform(Deterministic(float 0.80000000), Deterministic(float 1.20000000)), Deterministic(int 1)], deterministic=False)\n",
      "category :  Flipud(name=UnnamedFlipud, parameters=[Deterministic(int 1)], deterministic=False)\n",
      "category :  Sharpen(name=UnnamedSharpen, parameters=[<imgaug.augmenters.convolutional._SharpeningMatrixGenerator object at 0x000001F586771420>, function], deterministic=False)\n",
      "category :  Invert(name=UnnamedInvert, parameters=[Deterministic(int 1), Deterministic(int 1), None, None, None, Binomial(Deterministic(float 0.50000000))], deterministic=False)\n",
      "category :  Crop(name=UnnamedCrop, parameters=[DiscreteUniform(Deterministic(int 0), Deterministic(int -10)), None, None, None, None, Deterministic(constant), Deterministic(int 0)], deterministic=False)\n",
      "category :  Fliplr(name=UnnamedFliplr, parameters=[Deterministic(int 1)], deterministic=False)\n",
      "category :  GaussianBlur(name=UnnamedGaussianBlur, parameters=[Uniform(Deterministic(int 0), Deterministic(int 1))], deterministic=False)\n",
      "category :  LinearContrast(name=UnnamedLinearContrast, parameters=[Uniform(Deterministic(float 0.75000000), Deterministic(float 1.50000000))], deterministic=False)\n",
      "category :  Multiply(name=UnnamedMultiply, parameters=[Uniform(Deterministic(float 0.80000000), Deterministic(float 1.20000000)), Deterministic(int 1)], deterministic=False)\n",
      "category :  Flipud(name=UnnamedFlipud, parameters=[Deterministic(int 1)], deterministic=False)\n",
      "category :  Sharpen(name=UnnamedSharpen, parameters=[<imgaug.augmenters.convolutional._SharpeningMatrixGenerator object at 0x000001F586771420>, function], deterministic=False)\n",
      "category :  Invert(name=UnnamedInvert, parameters=[Deterministic(int 1), Deterministic(int 1), None, None, None, Binomial(Deterministic(float 0.50000000))], deterministic=False)\n",
      "category :  Crop(name=UnnamedCrop, parameters=[DiscreteUniform(Deterministic(int 0), Deterministic(int -10)), None, None, None, None, Deterministic(constant), Deterministic(int 0)], deterministic=False)\n",
      "category :  Fliplr(name=UnnamedFliplr, parameters=[Deterministic(int 1)], deterministic=False)\n",
      "category :  GaussianBlur(name=UnnamedGaussianBlur, parameters=[Uniform(Deterministic(int 0), Deterministic(int 1))], deterministic=False)\n",
      "category :  LinearContrast(name=UnnamedLinearContrast, parameters=[Uniform(Deterministic(float 0.75000000), Deterministic(float 1.50000000))], deterministic=False)\n",
      "category :  Multiply(name=UnnamedMultiply, parameters=[Uniform(Deterministic(float 0.80000000), Deterministic(float 1.20000000)), Deterministic(int 1)], deterministic=False)\n",
      "category :  Flipud(name=UnnamedFlipud, parameters=[Deterministic(int 1)], deterministic=False)\n",
      "category :  Sharpen(name=UnnamedSharpen, parameters=[<imgaug.augmenters.convolutional._SharpeningMatrixGenerator object at 0x000001F586771420>, function], deterministic=False)\n",
      "category :  Invert(name=UnnamedInvert, parameters=[Deterministic(int 1), Deterministic(int 1), None, None, None, Binomial(Deterministic(float 0.50000000))], deterministic=False)\n",
      "category :  Crop(name=UnnamedCrop, parameters=[DiscreteUniform(Deterministic(int 0), Deterministic(int -10)), None, None, None, None, Deterministic(constant), Deterministic(int 0)], deterministic=False)\n",
      "category :  Fliplr(name=UnnamedFliplr, parameters=[Deterministic(int 1)], deterministic=False)\n",
      "category :  GaussianBlur(name=UnnamedGaussianBlur, parameters=[Uniform(Deterministic(int 0), Deterministic(int 1))], deterministic=False)\n",
      "category :  LinearContrast(name=UnnamedLinearContrast, parameters=[Uniform(Deterministic(float 0.75000000), Deterministic(float 1.50000000))], deterministic=False)\n",
      "category :  Multiply(name=UnnamedMultiply, parameters=[Uniform(Deterministic(float 0.80000000), Deterministic(float 1.20000000)), Deterministic(int 1)], deterministic=False)\n",
      "category :  Flipud(name=UnnamedFlipud, parameters=[Deterministic(int 1)], deterministic=False)\n",
      "category :  Sharpen(name=UnnamedSharpen, parameters=[<imgaug.augmenters.convolutional._SharpeningMatrixGenerator object at 0x000001F586771420>, function], deterministic=False)\n",
      "category :  Invert(name=UnnamedInvert, parameters=[Deterministic(int 1), Deterministic(int 1), None, None, None, Binomial(Deterministic(float 0.50000000))], deterministic=False)\n",
      "category :  Crop(name=UnnamedCrop, parameters=[DiscreteUniform(Deterministic(int 0), Deterministic(int -10)), None, None, None, None, Deterministic(constant), Deterministic(int 0)], deterministic=False)\n"
     ]
    }
   ],
   "source": [
    "for label in labels:\n",
    "    label_img_path=os.path.join(img_path,label)\n",
    "    \n",
    "    # different augmentation\n",
    "    for category in aug_lst:\n",
    "        print(\"category : \",category)\n",
    "        seq=iaa.Sequential([category])\n",
    "        \n",
    "        # iaa.Fliplr(1) -> .Fliplr\n",
    "        category=str(category)\n",
    "        sub_nm=category[3:category.find(\"(\")]\n",
    "        \n",
    "        # all images in that label\n",
    "        for curr_img_nm in os.listdir(label_img_path):\n",
    "            # reading image\n",
    "            curr=cv2.imread(os.path.join(label_img_path,curr_img_nm))\n",
    "            new=seq(images=curr)\n",
    "                            \n",
    "            # saving new image file in folder\n",
    "            name=str(curr_img_nm).replace('.jpg',sub_nm+'.jpg')\n",
    "            cv2.imwrite(os.path.join(aug_img_path,label,name),new)\n"
   ]
  },
  {
   "cell_type": "markdown",
   "id": "558fe3d8",
   "metadata": {},
   "source": [
    "\n",
    "# Labeling data"
   ]
  },
  {
   "cell_type": "code",
   "execution_count": 7,
   "id": "8148f057",
   "metadata": {},
   "outputs": [
    {
     "name": "stdout",
     "output_type": "stream",
     "text": [
      "Requirement already satisfied: pyqt5 in s:\\object detection\\tfodcourse\\tfod\\lib\\site-packages (5.15.9)\n",
      "Requirement already satisfied: lxml in s:\\object detection\\tfodcourse\\tfod\\lib\\site-packages (4.9.2)\n",
      "Requirement already satisfied: PyQt5-sip<13,>=12.11 in s:\\object detection\\tfodcourse\\tfod\\lib\\site-packages (from pyqt5) (12.12.1)\n",
      "Requirement already satisfied: PyQt5-Qt5>=5.15.2 in s:\\object detection\\tfodcourse\\tfod\\lib\\site-packages (from pyqt5) (5.15.2)\n"
     ]
    }
   ],
   "source": [
    "!pip install --upgrade pyqt5 lxml"
   ]
  },
  {
   "cell_type": "code",
   "execution_count": 5,
   "id": "19bcf0de",
   "metadata": {},
   "outputs": [],
   "source": [
    "Label_img_path = os.path.join(root_path,'labelimg')\n",
    "\n",
    "if not os.path.exists(Label_img_path):\n",
    "    !mkdir {Label_img_path}\n",
    "    !git clone https://github.com/tzutalin/labelImg {Label_img_path}"
   ]
  },
  {
   "cell_type": "code",
   "execution_count": 6,
   "id": "d159ca5c",
   "metadata": {},
   "outputs": [],
   "source": [
    "if os.name == 'posix':\n",
    "    !make qt5py3\n",
    "if os.name =='nt':\n",
    "    !cd {Label_img_path} && pyrcc5 -o libs/resources.py resources.qrc\n",
    "    \n",
    "!cd {Label_img_path} && python labelImg.py"
   ]
  },
  {
   "cell_type": "markdown",
   "id": "d5278ef4",
   "metadata": {},
   "source": [
    "# Dividing in training and testing data\n",
    "\n"
   ]
  },
  {
   "cell_type": "code",
   "execution_count": 20,
   "id": "31d10466",
   "metadata": {},
   "outputs": [],
   "source": [
    "# creating train and test folder\n",
    "\n",
    "if not os.path.exists(train_path):\n",
    "    !mkdir {train_path}\n",
    "if not os.path.exists(test_path):\n",
    "    !mkdir {test_path}"
   ]
  },
  {
   "cell_type": "code",
   "execution_count": 6,
   "id": "bd72488f",
   "metadata": {},
   "outputs": [],
   "source": [
    "import shutil\n",
    "import random"
   ]
  },
  {
   "cell_type": "code",
   "execution_count": null,
   "id": "0ba38f2a",
   "metadata": {},
   "outputs": [],
   "source": [
    "# moving the 60% images from augmented folder to training folder and 40% to test folder\n",
    "for label in labels:\n",
    "    # path of image folder\n",
    "    label_img_path=os.path.join(aug_img_path,label)\n",
    "\n",
    "    # getting name of each file in that directory \n",
    "    lst=list(os.listdir(label_img_path))\n",
    "    random.shuffle(lst)\n",
    "#     print(lst[10:30])\n",
    "    for i in range(0,999):\n",
    "        try: \n",
    "            shutil.move(os.path.join(label_img_path,lst[i]),os.path.join(train_path,lst[i]))\n",
    "        except: \n",
    "            print(\"error\")\n",
    "            pass\n",
    "    for i in range(1000,1520):\n",
    "        try: \n",
    "            shutil.move(os.path.join(label_img_path,lst[i]),os.path.join(test_path,lst[i]))\n",
    "        except: \n",
    "            print(\"error\")\n",
    "            pass"
   ]
  },
  {
   "cell_type": "code",
   "execution_count": 8,
   "id": "bb8545e4",
   "metadata": {},
   "outputs": [],
   "source": [
    "# dividing test into test and validation \n",
    "# getting name of each file in that directory \n",
    "lst=list(os.listdir(test_path))\n",
    "random.shuffle(lst)\n",
    "for i in range(0,6791):\n",
    "    try: \n",
    "        shutil.move(os.path.join(test_path,lst[i]),os.path.join(validate_path,lst[i]))\n",
    "    except: \n",
    "        print(\"error\")\n",
    "        pass"
   ]
  },
  {
   "cell_type": "code",
   "execution_count": 32,
   "id": "9a4210f2",
   "metadata": {},
   "outputs": [
    {
     "name": "stdout",
     "output_type": "stream",
     "text": [
      "train 1\n",
      "train 2\n",
      "train 3\n",
      "train 4\n",
      "train 5\n",
      "train 6\n",
      "train 7\n",
      "train 8\n",
      "train 9\n",
      "train A\n",
      "train B\n",
      "train C\n",
      "train D\n",
      "train E\n",
      "train F\n",
      "train G\n",
      "train H\n",
      "train I\n",
      "train J\n",
      "train K\n",
      "train L\n",
      "train M\n",
      "train N\n",
      "train O\n",
      "train P\n",
      "train Q\n",
      "train R\n",
      "train S\n",
      "train T\n",
      "train U\n",
      "train V\n",
      "train W\n",
      "train X\n",
      "train Y\n",
      "train Z\n"
     ]
    }
   ],
   "source": [
    "# archive_path=r\"S:\\object detection\\archive\\data\"\n",
    "for label in labels:\n",
    "    # path of image folder\n",
    "    path=os.path.join(archive_path,label)\n",
    "\n",
    "    # getting name of each file in that directory \n",
    "    lst=list(os.listdir(path))\n",
    "    print(\"train\",label)\n",
    "    for i in range(0,899):\n",
    "        data = os.path.splitext(lst[i])\n",
    "        only_name = data[0]\n",
    "        extension = data[1]\n",
    "        # Adding the new name\n",
    "        new_name = only_name + \"_label_\"+str(label) + extension \n",
    "        shutil.copy(os.path.join(path,lst[i]),os.path.join(train_path,new_name))\n",
    "    for i in range(900,1199):\n",
    "        data = os.path.splitext(lst[i])\n",
    "        only_name = data[0]\n",
    "        extension = data[1]\n",
    "        # Adding the new name\n",
    "        new_name = only_name + \"_label_\"+str(label) + extension\n",
    "        shutil.copy(os.path.join(path,lst[i]),os.path.join(test_path,new_name))"
   ]
  },
  {
   "cell_type": "code",
   "execution_count": 10,
   "id": "a4773567",
   "metadata": {},
   "outputs": [
    {
     "name": "stdout",
     "output_type": "stream",
     "text": [
      "24940 25497\n",
      "08.json 08.jpg\n"
     ]
    }
   ],
   "source": [
    "f_labels=\"S:\\object detection\\TFODCourse\\ISL\\workspace\\labels\"\n",
    "f_done=\"S:\\object detection\\TFODCourse\\ISL\\workspace\\done\"\n",
    "n_labels=os.listdir(f_labels)\n",
    "n_done=os.listdir(f_done)\n",
    "print(len(n_labels),len(n_done))\n",
    "print(n_labels[4],n_done[4])"
   ]
  },
  {
   "cell_type": "code",
   "execution_count": 47,
   "id": "cb4f8156",
   "metadata": {},
   "outputs": [
    {
     "name": "stdout",
     "output_type": "stream",
     "text": [
      "24940\n"
     ]
    }
   ],
   "source": [
    "l1=[]\n",
    "l2=[]\n",
    "for i in n_labels:\n",
    "    data = os.path.splitext(i)\n",
    "    nm=data[0]\n",
    "    l1.append(nm)\n",
    "print(len(l1))"
   ]
  },
  {
   "cell_type": "code",
   "execution_count": 48,
   "id": "ee84f4c9",
   "metadata": {},
   "outputs": [
    {
     "name": "stdout",
     "output_type": "stream",
     "text": [
      "25497\n"
     ]
    }
   ],
   "source": [
    "for i in n_done:\n",
    "    data = os.path.splitext(i)\n",
    "    nm=data[0]\n",
    "    l2.append(nm)\n",
    "print(len(l2))"
   ]
  },
  {
   "cell_type": "code",
   "execution_count": 67,
   "id": "886c9feb",
   "metadata": {},
   "outputs": [
    {
     "name": "stdout",
     "output_type": "stream",
     "text": [
      "113 {'1195', '871', '841', '916', '846', '861', '854', '1175', '863', '838', '1190', '1152', '1164', '834', '835', '857', '1166', '920', '873', '919', '874', '1155', '917', '1186', '1167', '837', '1192', '862', '921', '1160', '864', '903', '905', '872', '858', '915', '1199', '830', '901', '1159', '1177', '1174', '855', '829', '1191', '1189', '848', '839', '1153', '1193', '870', '1165', '1173', '850', '875', '1154', '1196', '1178', '833', '840', '1198', '865', '860', '856', '842', '1187', '1162', '1176', '1197', '1194', '912', '832', '831', '859', '853', '843', '844', '922', '1172', '913', '867', '900', '1157', '836', '1163', '851', '914', '868', '1184', '906', '1171', '1161', '923', '910', '907', '908', '1156', '852', '847', '1188', '904', '911', '1169', '866', '1168', '909', '902', '1170', '849', '918', '869', '845', '1158'}\n"
     ]
    }
   ],
   "source": [
    "set_labels = set(l1)\n",
    "set_done = set(l2)\n",
    "diff = set_labels - set_done\n",
    "print(len(diff),diff)"
   ]
  },
  {
   "cell_type": "code",
   "execution_count": null,
   "id": "4442c528",
   "metadata": {},
   "outputs": [],
   "source": [
    "import shutil\n",
    "x=r\"S:\\object detection\\TFODCourse\\ISL\\workspace\\train robo\"\n",
    "yd=r\"S:\\object detection\\TFODCourse\\ISL\\workspace\\labels\"\n",
    "diff=list(diff)\n",
    "print(type(diff))\n",
    "for i in range(0,len(list(diff))):\n",
    "    nm=diff[i]+\".json\"\n",
    "    shutil.move(os.path.join(yd,nm),os.path.join(x,nm))\n",
    "    print(\"done\",diff[i])"
   ]
  }
 ],
 "metadata": {
  "kernelspec": {
   "display_name": "tfod1",
   "language": "python",
   "name": "tfod1"
  },
  "language_info": {
   "codemirror_mode": {
    "name": "ipython",
    "version": 3
   },
   "file_extension": ".py",
   "mimetype": "text/x-python",
   "name": "python",
   "nbconvert_exporter": "python",
   "pygments_lexer": "ipython3",
   "version": "3.9.16"
  }
 },
 "nbformat": 4,
 "nbformat_minor": 5
}
